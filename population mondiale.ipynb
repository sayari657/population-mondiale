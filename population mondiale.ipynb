{
 "cells": [
  {
   "cell_type": "markdown",
   "id": "8a7efdca",
   "metadata": {},
   "source": [
    "# Population Mondiale"
   ]
  },
  {
   "cell_type": "code",
   "execution_count": null,
   "id": "0bdbf848",
   "metadata": {},
   "outputs": [],
   "source": [
    "import numpy as np\n",
    "import pandas as pd\n",
    "import matplotlib.pyplot as plt\n",
    "\n",
    "url = r\"C:\\Users\\MSI\\Downloads\\world_population.xlsx\"\n",
    "data = pd.read_excel(url)\n",
    "data"
   ]
  },
  {
   "cell_type": "code",
   "execution_count": null,
   "id": "69c3587c",
   "metadata": {},
   "outputs": [],
   "source": [
    "data.head(5)"
   ]
  },
  {
   "cell_type": "code",
   "execution_count": null,
   "id": "1c34602d",
   "metadata": {},
   "outputs": [],
   "source": [
    "data.tail()"
   ]
  },
  {
   "cell_type": "code",
   "execution_count": null,
   "id": "75ae7c89",
   "metadata": {},
   "outputs": [],
   "source": [
    "data.shape"
   ]
  },
  {
   "cell_type": "code",
   "execution_count": null,
   "id": "ab5aa768",
   "metadata": {},
   "outputs": [],
   "source": [
    "data.columns"
   ]
  },
  {
   "cell_type": "code",
   "execution_count": null,
   "id": "809b61b2",
   "metadata": {},
   "outputs": [],
   "source": [
    "data.dtypes\n"
   ]
  },
  {
   "cell_type": "code",
   "execution_count": null,
   "id": "5262033e",
   "metadata": {},
   "outputs": [],
   "source": [
    "data.nunique()"
   ]
  },
  {
   "cell_type": "code",
   "execution_count": null,
   "id": "6cd98cf3",
   "metadata": {},
   "outputs": [],
   "source": [
    "data.describe()"
   ]
  },
  {
   "cell_type": "code",
   "execution_count": null,
   "id": "ec0e2e3f",
   "metadata": {},
   "outputs": [],
   "source": [
    "data[\"Continent\"].value_counts()"
   ]
  },
  {
   "cell_type": "code",
   "execution_count": null,
   "id": "5759ff33",
   "metadata": {},
   "outputs": [],
   "source": [
    "data.isnull()"
   ]
  },
  {
   "cell_type": "code",
   "execution_count": null,
   "id": "2166d07e",
   "metadata": {},
   "outputs": [],
   "source": [
    "data.isnull().sum()"
   ]
  },
  {
   "cell_type": "code",
   "execution_count": null,
   "id": "e2fd5fbe",
   "metadata": {},
   "outputs": [],
   "source": [
    "data.info()"
   ]
  },
  {
   "cell_type": "code",
   "execution_count": null,
   "id": "ee754431",
   "metadata": {},
   "outputs": [],
   "source": [
    "import matplotlib.pyplot as plt\n",
    "import seaborn as sns\n",
    "\n",
    "plt.figure(figsize=(10,6))\n",
    "sns.boxplot(x=\"Continent\", y='2020 Population', data=data)\n",
    "plt.title('Distribution de la population à travers les continents en 2020')\n",
    "plt.xlabel('Continent')\n",
    "plt.ylabel('Population')\n",
    "plt.show()\n"
   ]
  },
  {
   "cell_type": "code",
   "execution_count": null,
   "id": "c138a412",
   "metadata": {},
   "outputs": [],
   "source": [
    "highest_population_2020 = data.nlargest(5, '2020 Population')\n",
    "print(\"Pays avec la plus forte population en 2020 :\\n\", highest_population_2020.loc[:, ['Country/Territory', '2020 Population']])\n"
   ]
  },
  {
   "cell_type": "code",
   "execution_count": null,
   "id": "14c18d37",
   "metadata": {},
   "outputs": [],
   "source": [
    "lowest_population_2020 = data.nsmallest(5, '2020 Population')\n",
    "print(\"Pays avec la plus faible population en 2020 :\\n\", lowest_population_2020.loc[:, ['Country/Territory', '2020 Population']])\n",
    "\n"
   ]
  },
  {
   "cell_type": "code",
   "execution_count": null,
   "id": "cdad4894",
   "metadata": {},
   "outputs": [],
   "source": [
    "top_10_population_countries =data.nlargest(10,\"2022 Population\")\n",
    "\n",
    "plt.figure(figsize=(10,6))\n",
    "sns.barplot(x='2022 Population' , y='Country/Territory' , data = top_10_population_countries)\n",
    "plt.title('Top 10 Most Population Countries in 2022')\n",
    "plt.xlabel('2022 Population(in billions)')\n",
    "plt.ylabel('Country/Territory')\n",
    "plt.show()\n"
   ]
  },
  {
   "cell_type": "code",
   "execution_count": null,
   "id": "29b87cf0",
   "metadata": {},
   "outputs": [],
   "source": [
    "\n",
    "# Calculer le taux de croissance de la population\n",
    "data['Population_Growth_Rate'] = (data['2022 Population'] - data['2020 Population'])\n",
    "\n",
    "\n",
    "# Créer un boxplot du taux de croissance de la population par continent\n",
    "plt.figure(figsize=(10 , 8))\n",
    "sns.boxplot(x='Continent', y='Population_Growth_Rate', data=data)\n",
    "plt.title('Population_Growth_Rate Across Continents')\n",
    "plt.xlabel('Continent')\n",
    "plt.ylabel('Population_Growth_Rate (%)')\n",
    "plt.show()\n"
   ]
  }
 ],
 "metadata": {
  "kernelspec": {
   "display_name": "Python 3 (ipykernel)",
   "language": "python",
   "name": "python3"
  },
  "language_info": {
   "codemirror_mode": {
    "name": "ipython",
    "version": 3
   },
   "file_extension": ".py",
   "mimetype": "text/x-python",
   "name": "python",
   "nbconvert_exporter": "python",
   "pygments_lexer": "ipython3",
   "version": "3.11.5"
  }
 },
 "nbformat": 4,
 "nbformat_minor": 5
}
